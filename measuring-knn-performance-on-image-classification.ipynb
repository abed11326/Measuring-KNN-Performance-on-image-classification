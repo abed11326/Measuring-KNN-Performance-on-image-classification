{
 "cells": [
  {
   "cell_type": "markdown",
   "metadata": {
    "_cell_guid": "b1076dfc-b9ad-4769-8c92-a6c4dae69d19",
    "_uuid": "8f2839f25d086af736a60e9eeb907d3b93b6e0e5",
    "execution": {
     "iopub.execute_input": "2021-12-18T17:48:55.210027Z",
     "iopub.status.busy": "2021-12-18T17:48:55.209205Z",
     "iopub.status.idle": "2021-12-18T17:49:40.967261Z",
     "shell.execute_reply": "2021-12-18T17:49:40.966426Z",
     "shell.execute_reply.started": "2021-12-18T17:48:55.209987Z"
    }
   },
   "source": [
    "# **Image Classification with KNN Classifier**"
   ]
  },
  {
   "cell_type": "markdown",
   "metadata": {},
   "source": [
    "*This project measures the KNN algorithm performance on an image classification task. It works on an animal image dataset with 3 classes (cats, dogs, and pandas). There exists 1000 images per class. The purpose of the project is to make a baseline to be compare with neural networks and Convolutional Neural Networks.*"
   ]
  },
  {
   "cell_type": "markdown",
   "metadata": {},
   "source": [
    "## **Import required packages**"
   ]
  },
  {
   "cell_type": "code",
   "execution_count": 1,
   "metadata": {
    "execution": {
     "iopub.execute_input": "2022-01-19T16:50:32.163888Z",
     "iopub.status.busy": "2022-01-19T16:50:32.163044Z",
     "iopub.status.idle": "2022-01-19T16:50:33.773254Z",
     "shell.execute_reply": "2022-01-19T16:50:33.772183Z",
     "shell.execute_reply.started": "2022-01-19T16:50:32.163823Z"
    }
   },
   "outputs": [],
   "source": [
    "import os\n",
    "import cv2\n",
    "import numpy as np\n",
    "import matplotlib.pyplot as plt\n",
    "%matplotlib inline\n",
    "from sklearn.neighbors import KNeighborsClassifier\n",
    "from sklearn.preprocessing import LabelEncoder\n",
    "from sklearn.model_selection import train_test_split\n",
    "from sklearn.metrics import classification_report"
   ]
  },
  {
   "cell_type": "markdown",
   "metadata": {},
   "source": [
    "## **Load images and labels**"
   ]
  },
  {
   "cell_type": "code",
   "execution_count": 2,
   "metadata": {
    "execution": {
     "iopub.execute_input": "2022-01-19T16:56:35.775031Z",
     "iopub.status.busy": "2022-01-19T16:56:35.774438Z",
     "iopub.status.idle": "2022-01-19T16:56:50.255571Z",
     "shell.execute_reply": "2022-01-19T16:56:50.254578Z",
     "shell.execute_reply.started": "2022-01-19T16:56:35.774992Z"
    }
   },
   "outputs": [],
   "source": [
    "dataPath = \"animals\"\n",
    "data = []\n",
    "labels = []\n",
    "\n",
    "for dirname, _, filenames in os.walk(dataPath):\n",
    "    for filename in filenames:\n",
    "        image = cv2.imread(os.path.join(dirname, filename))\n",
    "        image = cv2.cvtColor(image, cv2.COLOR_BGR2RGB)\n",
    "        data.append(image)\n",
    "        label = dirname.split(os.path.sep)[-1]\n",
    "        if(label[-1] == 's'):\n",
    "            labels.append(label[:-1])\n",
    "        else:\n",
    "            labels.append(label)"
   ]
  },
  {
   "cell_type": "markdown",
   "metadata": {},
   "source": [
    "## **Data Preprocessing**"
   ]
  },
  {
   "cell_type": "code",
   "execution_count": 3,
   "metadata": {
    "execution": {
     "iopub.execute_input": "2022-01-19T16:58:35.063921Z",
     "iopub.status.busy": "2022-01-19T16:58:35.063626Z",
     "iopub.status.idle": "2022-01-19T16:58:37.274054Z",
     "shell.execute_reply": "2022-01-19T16:58:37.272782Z",
     "shell.execute_reply.started": "2022-01-19T16:58:35.063887Z"
    }
   },
   "outputs": [],
   "source": [
    "for i in range(len(data)):\n",
    "    data[i] = cv2.resize(data[i], (32,32), interpolation=cv2.INTER_AREA)"
   ]
  },
  {
   "cell_type": "code",
   "execution_count": 4,
   "metadata": {
    "execution": {
     "iopub.execute_input": "2022-01-19T16:58:56.403830Z",
     "iopub.status.busy": "2022-01-19T16:58:56.403557Z",
     "iopub.status.idle": "2022-01-19T16:58:56.416512Z",
     "shell.execute_reply": "2022-01-19T16:58:56.415467Z",
     "shell.execute_reply.started": "2022-01-19T16:58:56.403801Z"
    }
   },
   "outputs": [],
   "source": [
    "data = np.array(data).reshape((len(data), 3072))\n",
    "labels = np.array(labels)"
   ]
  },
  {
   "cell_type": "code",
   "execution_count": 5,
   "metadata": {
    "execution": {
     "iopub.execute_input": "2022-01-19T16:59:42.442684Z",
     "iopub.status.busy": "2022-01-19T16:59:42.442392Z",
     "iopub.status.idle": "2022-01-19T16:59:42.448653Z",
     "shell.execute_reply": "2022-01-19T16:59:42.448032Z",
     "shell.execute_reply.started": "2022-01-19T16:59:42.442654Z"
    }
   },
   "outputs": [],
   "source": [
    "le = LabelEncoder() \n",
    "labels = le.fit_transform(labels) "
   ]
  },
  {
   "cell_type": "markdown",
   "metadata": {},
   "source": [
    "## **Train Test Split**"
   ]
  },
  {
   "cell_type": "code",
   "execution_count": 6,
   "metadata": {
    "execution": {
     "iopub.execute_input": "2022-01-19T17:00:29.359748Z",
     "iopub.status.busy": "2022-01-19T17:00:29.359209Z",
     "iopub.status.idle": "2022-01-19T17:00:29.370527Z",
     "shell.execute_reply": "2022-01-19T17:00:29.369409Z",
     "shell.execute_reply.started": "2022-01-19T17:00:29.359710Z"
    }
   },
   "outputs": [],
   "source": [
    "(trainX, testX, trainY, testY) = train_test_split(data, labels, test_size=0.25, random_state=42)"
   ]
  },
  {
   "cell_type": "markdown",
   "metadata": {},
   "source": [
    "## **Select and Train the Model**"
   ]
  },
  {
   "cell_type": "code",
   "execution_count": 7,
   "metadata": {
    "execution": {
     "iopub.execute_input": "2022-01-19T17:02:55.269630Z",
     "iopub.status.busy": "2022-01-19T17:02:55.268737Z",
     "iopub.status.idle": "2022-01-19T17:02:57.513595Z",
     "shell.execute_reply": "2022-01-19T17:02:57.511848Z",
     "shell.execute_reply.started": "2022-01-19T17:02:55.269555Z"
    }
   },
   "outputs": [],
   "source": [
    "model = KNeighborsClassifier(n_neighbors = 4) \n",
    "model.fit(trainX, trainY);"
   ]
  },
  {
   "cell_type": "markdown",
   "metadata": {},
   "source": [
    "## **Model Results**"
   ]
  },
  {
   "cell_type": "code",
   "execution_count": 8,
   "metadata": {
    "execution": {
     "iopub.execute_input": "2022-01-19T17:03:32.678211Z",
     "iopub.status.busy": "2022-01-19T17:03:32.677945Z",
     "iopub.status.idle": "2022-01-19T17:03:41.488407Z",
     "shell.execute_reply": "2022-01-19T17:03:41.486996Z",
     "shell.execute_reply.started": "2022-01-19T17:03:32.678186Z"
    }
   },
   "outputs": [
    {
     "name": "stdout",
     "output_type": "stream",
     "text": [
      "              precision    recall  f1-score   support\n",
      "\n",
      "         cat       0.45      0.69      0.54       262\n",
      "         dog       0.36      0.37      0.36       249\n",
      "       panda       0.82      0.29      0.43       239\n",
      "\n",
      "    accuracy                           0.46       750\n",
      "   macro avg       0.54      0.45      0.45       750\n",
      "weighted avg       0.54      0.46      0.45       750\n",
      "\n"
     ]
    }
   ],
   "source": [
    "print(classification_report(testY, model.predict(testX), target_names=le.classes_))"
   ]
  }
 ],
 "metadata": {
  "kernelspec": {
   "display_name": "Python 3 (ipykernel)",
   "language": "python",
   "name": "python3"
  },
  "language_info": {
   "codemirror_mode": {
    "name": "ipython",
    "version": 3
   },
   "file_extension": ".py",
   "mimetype": "text/x-python",
   "name": "python",
   "nbconvert_exporter": "python",
   "pygments_lexer": "ipython3",
   "version": "3.8.3"
  }
 },
 "nbformat": 4,
 "nbformat_minor": 4
}
